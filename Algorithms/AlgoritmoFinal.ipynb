{
  "nbformat": 4,
  "nbformat_minor": 0,
  "metadata": {
    "colab": {
      "name": "AlgoritmoFinal - copia.ipynb",
      "provenance": [],
      "collapsed_sections": []
    },
    "kernelspec": {
      "name": "python3",
      "display_name": "Python 3"
    },
    "language_info": {
      "name": "python"
    }
  },
  "cells": [
    {
      "cell_type": "code",
      "metadata": {
        "id": "ZX0_ywwRBM3r"
      },
      "source": [
        "!git clone https://github.com/AleSilva04/wv72_tf_201822717_201620127_201816502_20181d073_201815776.git\n"
      ],
      "execution_count": null,
      "outputs": []
    },
    {
      "cell_type": "code",
      "metadata": {
        "id": "vEoQxi_TBknq"
      },
      "source": [
        "from wv72_tf_201822717_201620127_201816502_20181d073_201815776 import LeerCsv as leer\n",
        "from wv72_tf_201822717_201620127_201816502_20181d073_201815776 import Generar_Grafo as Gen\n",
        "from wv72_tf_201822717_201620127_201816502_20181d073_201815776 import Funciones_Agrupar as F_A\n",
        "from wv72_tf_201822717_201620127_201816502_20181d073_201815776 import Dijkstra as Dij\n",
        "from sys import maxsize\n",
        "from itertools import permutations"
      ],
      "execution_count": 3,
      "outputs": []
    },
    {
      "cell_type": "code",
      "metadata": {
        "id": "dwFMF0ZkCYpi"
      },
      "source": [
        "G = ga.generateGridGraph(1000)"
      ],
      "execution_count": null,
      "outputs": []
    },
    {
      "cell_type": "code",
      "metadata": {
        "id": "3I94ugCbCeZq"
      },
      "source": [
        "almacen = lee.leer_archivo(\"wv72_tf_201822717_201620127_201816502_20181d073_201815776/dataset/warehouses.csv\")\n",
        "entrega = lee.leer_archivo(\"wv72_tf_201822717_201620127_201816502_20181d073_201815776/dataset/delivery-points.csv\")"
      ],
      "execution_count": null,
      "outputs": []
    },
    {
      "cell_type": "code",
      "metadata": {
        "id": "9akCtCdrChqJ"
      },
      "source": [
        "almacenes = []\n",
        "for x,y in almacen:\n",
        "  almacenes.append(y*1000+x)\n",
        "\n",
        "ptsEntrega = []\n",
        "\n",
        "for x,y in entrega:\n",
        "  ptsEntrega.append(y*1000 +x)"
      ],
      "execution_count": null,
      "outputs": []
    },
    {
      "cell_type": "code",
      "metadata": {
        "id": "3LcVoJeQCjGX"
      },
      "source": [
        "#Le asignamos un almacen a cada uno de los 5000 puntos de entrega\n",
        "def dist(a,b):\n",
        "  x1,y1 = a\n",
        "  x2,y2 = b\n",
        "  return abs(x1-x2) + abs(y1-y2)\n",
        "\n",
        "group =[-1]*5000\n",
        "for i in range(5000):\n",
        "  m=0\n",
        "  d=dist(entrega[i],almacen[0])\n",
        "  for j in range(1,100):\n",
        "    d2 = dist(entrega[i],almacen[j])\n",
        "    if d2 < d:\n",
        "      d=d2\n",
        "      m = j\n",
        "  group[i]=m"
      ],
      "execution_count": 8,
      "outputs": []
    },
    {
      "cell_type": "code",
      "metadata": {
        "id": "wTOneOYOCk-v"
      },
      "source": [
        "#Agrupamos todos los nodos en su correspondiente grupo  \n",
        "groupNodes = [[] for _ in range(100)]\n",
        "for i in range(5000):\n",
        "  g = group[i]\n",
        "  groupNodes[g].append(ptsEntrega[i])"
      ],
      "execution_count": null,
      "outputs": []
    },
    {
      "cell_type": "code",
      "metadata": {
        "id": "1qrwzOXTNAjl"
      },
      "source": [
        "def B_camino(f, path,s):\n",
        "  recor = [f]\n",
        "  while f != None:\n",
        "    u = path[f]\n",
        "    s = u\n",
        "    recor.append(v)\n",
        "  recor.pop(-1)\n",
        "  return camino"
      ],
      "execution_count": null,
      "outputs": []
    },
    {
      "cell_type": "code",
      "metadata": {
        "id": "pROOVgYuCqrs"
      },
      "source": [
        "#Dividimos el Grafo General en subgrafos o regiones donde en cada una estan un almacen y sus respectivos puntos de entrega asignados\n",
        "regions = [[] for _ in range(100)]\n",
        "for i in range(100):\n",
        "  g = groupNodes[i].copy()\n",
        "  g.append(almacenes[i])\n",
        "  limits = ag.limites(g)\n",
        "  for y in range(limits[0],limits[1]+1):\n",
        "    for x in range(limits[2],limits[3]+1):\n",
        "      regions[i].append(y*1000+x)"
      ],
      "execution_count": null,
      "outputs": []
    },
    {
      "cell_type": "code",
      "metadata": {
        "id": "CWI-3eaIC3_1"
      },
      "source": [
        "paths_costs=[([],[]) for _ in range(25,51)]\n",
        "for i in range(25,51):\n",
        "  g=groupNodes[i].copy()\n",
        "  g.append(almacenes[i])\n",
        "  path, cost = Dij.dijkstra(regions[i],g,pt,almacenes[i])\n",
        "  paths_costs[i]=(path,cost)"
      ],
      "execution_count": null,
      "outputs": []
    },
    {
      "cell_type": "code",
      "metadata": {
        "id": "oTa7nEy6DTDq"
      },
      "source": [
        "\n",
        "def ALGORITM_VPR(graph, s):\n",
        "    # almacenar todos los vértices excepto el vértice de origen\n",
        "    v = []\n",
        "    for i in range(V):\n",
        "        if i != s:\n",
        "            v.append(i)\n",
        " # almacenar el peso mínimo del ciclo\n",
        "    min_path = maxsize\n",
        "    permut=permutations(v)\n",
        "    for i in permut:\n",
        "        # almacenar el peso de la ruta actual (costo)\n",
        "        cur = 0\n",
        "        # calcular el peso de la ruta actual\n",
        "        k = s\n",
        "        for j in i:\n",
        "            cur += gp[j]\n",
        "            k = j\n",
        "        cur+= gp[k]\n",
        "    \n",
        "         # actualización mínima\n",
        "        min_path = min(min_path, cur)\n",
        "       print(f\"Almacen {s}:\")\n",
        "       print(f\"recorrido optimo: {min_path}\")\n",
        "\n"
      ],
      "execution_count": null,
      "outputs": []
    },
    {
      "cell_type": "code",
      "metadata": {
        "colab": {
          "base_uri": "https://localhost:8080/"
        },
        "id": "BnfO2aXvFky6",
        "outputId": "839d8d69-a465-4553-f0e3-9241e809208c"
      },
      "source": [
        "\n",
        "for s in range(25,51): \n",
        "  ALGORITM_VPR(regions[i],almacen[i] )\n",
        "\n"
      ],
      "execution_count": null,
      "outputs": [
        {
          "output_type": "stream",
          "name": "stdout",
          "text": [
            "Almacen: 25 \n",
            "recorrido optimo: 44\n",
            "Almacen: 26 \n",
            "recorrido optimo: 68\n",
            "Almacen: 27 \n",
            "recorrido optimo: 140\n",
            "Almacen: 28 \n",
            "recorrido optimo: 44\n",
            "Almacen: 29 \n",
            "recorrido optimo: 188\n",
            "Almacen: 30 \n",
            "recorrido optimo: 140\n",
            "Almacen: 31 \n",
            "recorrido optimo: 44\n",
            "Almacen: 32 \n",
            "recorrido optimo: 20\n",
            "Almacen: 33 \n",
            "recorrido optimo: 68\n",
            "Almacen: 34 \n",
            "recorrido optimo: 68\n",
            "Almacen: 35 \n",
            "recorrido optimo: 116\n",
            "Almacen: 36 \n",
            "recorrido optimo: 140\n",
            "Almacen: 37 \n",
            "recorrido optimo: 44\n",
            "Almacen: 38 \n",
            "recorrido optimo: 188\n",
            "Almacen: 39 \n",
            "recorrido optimo: 164\n",
            "Almacen: 40 \n",
            "recorrido optimo: 188\n",
            "Almacen: 41 \n",
            "recorrido optimo: 164\n",
            "Almacen: 42 \n",
            "recorrido optimo: 188\n",
            "Almacen: 43 \n",
            "recorrido optimo: 140\n",
            "Almacen: 44 \n",
            "recorrido optimo: 44\n",
            "Almacen: 45 \n",
            "recorrido optimo: 188\n",
            "Almacen: 46 \n",
            "recorrido optimo: 44\n",
            "Almacen: 47 \n",
            "recorrido optimo: 68\n",
            "Almacen: 48 \n",
            "recorrido optimo: 140\n",
            "Almacen: 49 \n",
            "recorrido optimo: 140\n",
            "Almacen: 50 \n",
            "recorrido optimo: 92\n"
          ]
        }
      ]
    }
  ]
}