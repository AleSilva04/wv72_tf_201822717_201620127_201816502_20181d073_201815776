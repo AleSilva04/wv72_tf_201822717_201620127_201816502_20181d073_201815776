{
  "nbformat": 4,
  "nbformat_minor": 0,
  "metadata": {
    "colab": {
      "name": "Untitled6.ipynb",
      "provenance": []
    },
    "kernelspec": {
      "name": "python3",
      "display_name": "Python 3"
    },
    "language_info": {
      "name": "python"
    }
  },
  "cells": [
    {
      "cell_type": "code",
      "metadata": {
        "colab": {
          "base_uri": "https://localhost:8080/"
        },
        "id": "-U0KF8iELJAo",
        "outputId": "83b60772-e947-4f9a-d0e8-bc4134d85808"
      },
      "source": [
        "!git clone https://github.com/AleSilva04/wv72_tf_201822717_201620127_201816502_20181d073_201815776.git\n"
      ],
      "execution_count": 1,
      "outputs": [
        {
          "output_type": "stream",
          "name": "stdout",
          "text": [
            "Cloning into 'wv72_tf_201822717_201620127_201816502_20181d073_201815776'...\n",
            "remote: Enumerating objects: 104, done.\u001b[K\n",
            "remote: Counting objects: 100% (104/104), done.\u001b[K\n",
            "remote: Compressing objects: 100% (96/96), done.\u001b[K\n",
            "remote: Total 104 (delta 41), reused 17 (delta 5), pack-reused 0\u001b[K\n",
            "Receiving objects: 100% (104/104), 269.70 KiB | 8.99 MiB/s, done.\n",
            "Resolving deltas: 100% (41/41), done.\n"
          ]
        }
      ]
    },
    {
      "cell_type": "code",
      "metadata": {
        "id": "Ob163t1yLVKS"
      },
      "source": [
        "from wv72_tf_201822717_201620127_201816502_20181d073_201815776 import LeerCsv\n",
        "from wv72_tf_201822717_201620127_201816502_20181d073_201815776 import Generar_Grafo"
      ],
      "execution_count": 2,
      "outputs": []
    },
    {
      "cell_type": "markdown",
      "metadata": {
        "id": "Bk2gqda0LZXS"
      },
      "source": [
        "Creamos Grafo de un millón de nodos"
      ]
    },
    {
      "cell_type": "code",
      "metadata": {
        "id": "qE3_Rtb6LXlD"
      },
      "source": [
        "G = Generar_Grafo.generateGridGraph(1000)"
      ],
      "execution_count": 3,
      "outputs": []
    },
    {
      "cell_type": "markdown",
      "metadata": {
        "id": "ShsZqnlFL3P7"
      },
      "source": [
        "Calculamos los nodos que son puntos de entrega y los que son almacenes"
      ]
    },
    {
      "cell_type": "code",
      "metadata": {
        "id": "LXLWQ9UlL1qa"
      },
      "source": [
        "\n",
        "almacen = LeerCsv.leer_archivo(\"wv72_tf_201822717_201620127_201816502_20181d073_201815776/dataset/warehouses.csv\")\n",
        "entrega = LeerCsv.leer_archivo(\"wv72_tf_201822717_201620127_201816502_20181d073_201815776/dataset/delivery-points.csv\")\n",
        "\n",
        "almacenes = []\n",
        "for x,y in almacen:\n",
        "  almacenes.append(y*1000+x)\n",
        "\n",
        "ptsEntrega = []\n",
        "\n",
        "for x,y in entrega:\n",
        "  ptsEntrega.append(y*1000 +x)"
      ],
      "execution_count": 8,
      "outputs": []
    }
  ]
}