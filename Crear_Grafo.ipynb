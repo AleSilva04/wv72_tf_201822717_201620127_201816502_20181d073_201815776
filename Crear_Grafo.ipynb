{
  "nbformat": 4,
  "nbformat_minor": 0,
  "metadata": {
    "colab": {
      "name": "Copia de Algoritmo_extraer_datos.ipynb",
      "provenance": []
    },
    "kernelspec": {
      "name": "python3",
      "display_name": "Python 3"
    },
    "language_info": {
      "name": "python"
    }
  },
  "cells": [
    {
      "cell_type": "code",
      "metadata": {
        "colab": {
          "base_uri": "https://localhost:8080/"
        },
        "id": "IeXwWtpAMbcw",
        "outputId": "2b4d5806-7f7b-4540-f947-2018a962e0bd"
      },
      "source": [
        "!git clone https://github.com/AleSilva04/wv72_tf_201822717_201620127_201816502_20181d073_201815776.git"
      ],
      "execution_count": null,
      "outputs": [
        {
          "output_type": "stream",
          "name": "stdout",
          "text": [
            "Cloning into 'wv72_tf_201822717_201620127_201816502_20181d073_201815776'...\n",
            "remote: Enumerating objects: 77, done.\u001b[K\n",
            "remote: Counting objects: 100% (77/77), done.\u001b[K\n",
            "remote: Compressing objects: 100% (69/69), done.\u001b[K\n",
            "remote: Total 77 (delta 31), reused 17 (delta 5), pack-reused 0\u001b[K\n",
            "Unpacking objects: 100% (77/77), done.\n"
          ]
        }
      ]
    },
    {
      "cell_type": "code",
      "metadata": {
        "id": "uczN8Ss7x7DT"
      },
      "source": [
        "from wv72_tf_201822717_201620127_201816502_20181d073_201815776 import LeerCsv\n",
        "from wv72_tf_201822717_201620127_201816502_20181d073_201815776 import Generar_Grafo\n"
      ],
      "execution_count": null,
      "outputs": []
    },
    {
      "cell_type": "markdown",
      "metadata": {
        "id": "GA_rDIcEYgIj"
      },
      "source": [
        "Creamos matriz de adyacencia"
      ]
    },
    {
      "cell_type": "code",
      "metadata": {
        "id": "dkgwIu3F4S2g",
        "colab": {
          "base_uri": "https://localhost:8080/"
        },
        "outputId": "7d359b2b-223d-4870-e29e-49ababa3f56b"
      },
      "source": [
        "almacen = LeerCsv.leer_archivo(\"wv72_tf_201822717_201620127_201816502_20181d073_201815776/dataset/warehouses.csv\")\n",
        "distribucion = LeerCsv.leer_archivo(\"wv72_tf_201822717_201620127_201816502_20181d073_201815776/dataset/delivery-points.csv\")\n",
        "\n",
        "datos = almacen + distribucion\n",
        "\n",
        "G = Generar_Grafo.crear_grafo(datos)\n",
        "\n",
        "print(G)\n"
      ],
      "execution_count": 129,
      "outputs": [
        {
          "output_type": "stream",
          "name": "stdout",
          "text": [
            "[[None 1685.9682677915382 1800.2805336946794 ... 1548.7688659060784\n",
            "  1764.8844154788155 1605.872348600598]\n",
            " [1685.9682677915382 None 154.5477272560163 ... 545.9029217727269\n",
            "  626.6115223964526 92.63368717696602]\n",
            " [1800.2805336946794 154.5477272560163 None ... 691.4658342969666\n",
            "  747.5754142559799 245.2835094334717]\n",
            " ...\n",
            " [1548.7688659060784 545.9029217727269 691.4658342969666 ... None\n",
            "  223.2576986354558 475.0673636443573]\n",
            " [1764.8844154788155 626.6115223964526 747.5754142559799 ...\n",
            "  223.2576986354558 None 581.9286897893934]\n",
            " [1605.872348600598 92.63368717696602 245.2835094334717 ...\n",
            "  475.0673636443573 581.9286897893934 None]]\n"
          ]
        }
      ]
    }
  ]
}